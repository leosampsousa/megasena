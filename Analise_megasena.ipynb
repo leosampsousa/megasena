{
 "cells": [
  {
   "cell_type": "code",
   "execution_count": 1,
   "metadata": {},
   "outputs": [],
   "source": [
    "import pandas as pd\n",
    "import numpy as np"
   ]
  },
  {
   "cell_type": "code",
   "execution_count": 2,
   "metadata": {},
   "outputs": [],
   "source": [
    "megasena_df = pd.read_csv(\"megasena.csv\")"
   ]
  },
  {
   "cell_type": "code",
   "execution_count": 13,
   "metadata": {},
   "outputs": [
    {
     "data": {
      "text/plain": [
       "2471"
      ]
     },
     "execution_count": 13,
     "metadata": {},
     "output_type": "execute_result"
    }
   ],
   "source": [
    "# Visualizando as 5 primeiras linhas do dataset\n",
    "megasena_df.head()"
   ]
  },
  {
   "cell_type": "code",
   "execution_count": 8,
   "metadata": {},
   "outputs": [
    {
     "data": {
      "text/html": [
       "<div>\n",
       "<style scoped>\n",
       "    .dataframe tbody tr th:only-of-type {\n",
       "        vertical-align: middle;\n",
       "    }\n",
       "\n",
       "    .dataframe tbody tr th {\n",
       "        vertical-align: top;\n",
       "    }\n",
       "\n",
       "    .dataframe thead th {\n",
       "        text-align: right;\n",
       "    }\n",
       "</style>\n",
       "<table border=\"1\" class=\"dataframe\">\n",
       "  <thead>\n",
       "    <tr style=\"text-align: right;\">\n",
       "      <th></th>\n",
       "      <th>Concurso</th>\n",
       "      <th>bola 1</th>\n",
       "      <th>bola 2</th>\n",
       "      <th>bola 3</th>\n",
       "      <th>bola 4</th>\n",
       "      <th>bola 5</th>\n",
       "      <th>bola 6</th>\n",
       "    </tr>\n",
       "  </thead>\n",
       "  <tbody>\n",
       "    <tr>\n",
       "      <th>count</th>\n",
       "      <td>2471.000000</td>\n",
       "      <td>2471.000000</td>\n",
       "      <td>2471.000000</td>\n",
       "      <td>2471.000000</td>\n",
       "      <td>2471.000000</td>\n",
       "      <td>2471.000000</td>\n",
       "      <td>2471.000000</td>\n",
       "    </tr>\n",
       "    <tr>\n",
       "      <th>mean</th>\n",
       "      <td>1236.000000</td>\n",
       "      <td>30.436665</td>\n",
       "      <td>30.153784</td>\n",
       "      <td>30.757183</td>\n",
       "      <td>30.707811</td>\n",
       "      <td>30.552003</td>\n",
       "      <td>30.382436</td>\n",
       "    </tr>\n",
       "    <tr>\n",
       "      <th>std</th>\n",
       "      <td>713.460581</td>\n",
       "      <td>17.280513</td>\n",
       "      <td>17.363505</td>\n",
       "      <td>17.334951</td>\n",
       "      <td>17.248024</td>\n",
       "      <td>17.166806</td>\n",
       "      <td>17.200386</td>\n",
       "    </tr>\n",
       "    <tr>\n",
       "      <th>min</th>\n",
       "      <td>1.000000</td>\n",
       "      <td>1.000000</td>\n",
       "      <td>1.000000</td>\n",
       "      <td>1.000000</td>\n",
       "      <td>1.000000</td>\n",
       "      <td>1.000000</td>\n",
       "      <td>1.000000</td>\n",
       "    </tr>\n",
       "    <tr>\n",
       "      <th>25%</th>\n",
       "      <td>618.500000</td>\n",
       "      <td>15.500000</td>\n",
       "      <td>15.000000</td>\n",
       "      <td>16.000000</td>\n",
       "      <td>16.000000</td>\n",
       "      <td>15.000000</td>\n",
       "      <td>16.000000</td>\n",
       "    </tr>\n",
       "    <tr>\n",
       "      <th>50%</th>\n",
       "      <td>1236.000000</td>\n",
       "      <td>30.000000</td>\n",
       "      <td>31.000000</td>\n",
       "      <td>31.000000</td>\n",
       "      <td>31.000000</td>\n",
       "      <td>31.000000</td>\n",
       "      <td>30.000000</td>\n",
       "    </tr>\n",
       "    <tr>\n",
       "      <th>75%</th>\n",
       "      <td>1853.500000</td>\n",
       "      <td>45.000000</td>\n",
       "      <td>45.000000</td>\n",
       "      <td>46.000000</td>\n",
       "      <td>45.000000</td>\n",
       "      <td>45.000000</td>\n",
       "      <td>45.000000</td>\n",
       "    </tr>\n",
       "    <tr>\n",
       "      <th>max</th>\n",
       "      <td>2471.000000</td>\n",
       "      <td>60.000000</td>\n",
       "      <td>60.000000</td>\n",
       "      <td>60.000000</td>\n",
       "      <td>60.000000</td>\n",
       "      <td>60.000000</td>\n",
       "      <td>60.000000</td>\n",
       "    </tr>\n",
       "  </tbody>\n",
       "</table>\n",
       "</div>"
      ],
      "text/plain": [
       "          Concurso       bola 1       bola 2       bola 3       bola 4  \\\n",
       "count  2471.000000  2471.000000  2471.000000  2471.000000  2471.000000   \n",
       "mean   1236.000000    30.436665    30.153784    30.757183    30.707811   \n",
       "std     713.460581    17.280513    17.363505    17.334951    17.248024   \n",
       "min       1.000000     1.000000     1.000000     1.000000     1.000000   \n",
       "25%     618.500000    15.500000    15.000000    16.000000    16.000000   \n",
       "50%    1236.000000    30.000000    31.000000    31.000000    31.000000   \n",
       "75%    1853.500000    45.000000    45.000000    46.000000    45.000000   \n",
       "max    2471.000000    60.000000    60.000000    60.000000    60.000000   \n",
       "\n",
       "            bola 5       bola 6  \n",
       "count  2471.000000  2471.000000  \n",
       "mean     30.552003    30.382436  \n",
       "std      17.166806    17.200386  \n",
       "min       1.000000     1.000000  \n",
       "25%      15.000000    16.000000  \n",
       "50%      31.000000    30.000000  \n",
       "75%      45.000000    45.000000  \n",
       "max      60.000000    60.000000  "
      ]
     },
     "execution_count": 8,
     "metadata": {},
     "output_type": "execute_result"
    }
   ],
   "source": [
    "# Printando dados estatísticos gerais do dataset\n",
    "megasena_df.describe()"
   ]
  },
  {
   "cell_type": "code",
   "execution_count": 8,
   "metadata": {},
   "outputs": [],
   "source": [
    "# Agora, vamos descobrir quais os números que saem com mais frequência. Primeiro, vamos pegar todos os números que \n",
    "# saíram em cada bola e concatenar em um único array\n",
    "bola_1 = megasena_df['bola 1'].to_numpy()\n",
    "bola_2 = megasena_df['bola 2'].to_numpy()\n",
    "bola_3 = megasena_df['bola 3'].to_numpy()\n",
    "bola_4 = megasena_df['bola 4'].to_numpy()\n",
    "bola_5 = megasena_df['bola 5'].to_numpy()\n",
    "bola_6 = megasena_df['bola 6'].to_numpy()\n",
    "\n",
    "all_numbers_array = np.concatenate([bola_1, bola_2, bola_3, bola_4, bola_5, bola_6])"
   ]
  },
  {
   "cell_type": "code",
   "execution_count": 10,
   "metadata": {},
   "outputs": [
    {
     "data": {
      "text/plain": [
       "array([[ 53, 284],\n",
       "       [ 10, 281],\n",
       "       [ 42, 271],\n",
       "       [  5, 270],\n",
       "       [ 37, 268],\n",
       "       [ 33, 266],\n",
       "       [ 23, 264],\n",
       "       [  4, 264],\n",
       "       [ 30, 263],\n",
       "       [ 27, 261],\n",
       "       [ 28, 261],\n",
       "       [ 41, 261],\n",
       "       [ 54, 261],\n",
       "       [ 35, 260],\n",
       "       [ 34, 260],\n",
       "       [ 29, 259],\n",
       "       [ 44, 258],\n",
       "       [ 16, 258],\n",
       "       [ 51, 258],\n",
       "       [ 11, 258],\n",
       "       [ 17, 257],\n",
       "       [ 43, 257],\n",
       "       [ 24, 256],\n",
       "       [ 32, 254],\n",
       "       [ 49, 254],\n",
       "       [ 38, 254],\n",
       "       [ 36, 253],\n",
       "       [  2, 253],\n",
       "       [ 13, 252],\n",
       "       [ 56, 251],\n",
       "       [  8, 251],\n",
       "       [  6, 249],\n",
       "       [ 52, 249],\n",
       "       [ 46, 246],\n",
       "       [ 50, 242],\n",
       "       [ 18, 242],\n",
       "       [ 58, 240],\n",
       "       [ 12, 239],\n",
       "       [ 20, 238],\n",
       "       [  1, 238],\n",
       "       [ 45, 238],\n",
       "       [ 40, 237],\n",
       "       [ 47, 237],\n",
       "       [ 25, 236],\n",
       "       [ 57, 235],\n",
       "       [  7, 235],\n",
       "       [ 19, 235],\n",
       "       [ 39, 233],\n",
       "       [ 60, 233],\n",
       "       [ 31, 233],\n",
       "       [ 59, 233],\n",
       "       [  9, 232],\n",
       "       [ 14, 232],\n",
       "       [ 48, 228],\n",
       "       [  3, 228],\n",
       "       [ 15, 217],\n",
       "       [ 22, 217],\n",
       "       [ 21, 212],\n",
       "       [ 55, 209],\n",
       "       [ 26, 205]], dtype=int64)"
      ]
     },
     "execution_count": 10,
     "metadata": {},
     "output_type": "execute_result"
    }
   ],
   "source": [
    "# Agora, usamos esse array para agrupar os números e contar quantos tem de cada um.\n",
    "\n",
    "def get_count_array(arr):\n",
    "    unique, counts = np.unique(all_numbers_array, return_counts=True)\n",
    "    return np.asarray((unique, counts)).T\n",
    "\n",
    "def reverse_count_array(arr):\n",
    "    return arr[arr[:,1].argsort()[::-1]]\n",
    "\n",
    "numbers_count = reverse_count_array(get_count_array(all_numbers_array))\n",
    "numbers_count"
   ]
  },
  {
   "cell_type": "code",
   "execution_count": 28,
   "metadata": {},
   "outputs": [],
   "source": [
    "# Pelo array obtido no item acima, podemos afimar que, até o momento, o número 53 é o número que mais saiu nos sorteios. \n",
    "# Além disso, poderíamos dizer que o jogo da megasena com os números mais frequentes é o seguinte\n",
    "# 5-10-33-37-42-53"
   ]
  },
  {
   "cell_type": "code",
   "execution_count": 14,
   "metadata": {},
   "outputs": [
    {
     "name": "stdout",
     "output_type": "stream",
     "text": [
      "[8, 23, 29, 30, 36, 55]\n"
     ]
    }
   ],
   "source": [
    "# Uma outra abordagem seria, ao invés de unir todos números e ver quais são os mais frequentes, podemos fazer isso para\n",
    "# cada bola e ver se obtemos um resultado diferente.\n",
    "\n",
    "#Bola 1\n",
    "bola1_count = reverse_count_array(get_count_array(bola_1))\n",
    "\n",
    "#Bola 2\n",
    "bola2_count = reverse_count_array(get_count_array(bola_2))\n",
    "\n",
    "#Bola 3\n",
    "bola3_count = reverse_count_array(get_count_array(bola_3))\n",
    "\n",
    "#Bola 4\n",
    "bola4_count = reverse_count_array(get_count_array(bola_4))\n",
    "\n",
    "#Bola 5\n",
    "bola5_count = reverse_count_array(get_count_array(bola_5))\n",
    "\n",
    "#Bola 6\n",
    "bola6_count = reverse_count_array(get_count_array(bola_6))\n",
    "\n",
    "best_ticket = [bola_1[0], bola_2[0], bola_3[0], bola_4[0], bola_5[0], bola_6[0]]\n",
    "best_ticket.sort()\n",
    "\n",
    "print(best_ticket)"
   ]
  },
  {
   "cell_type": "code",
   "execution_count": 15,
   "metadata": {},
   "outputs": [],
   "source": [
    "# Pelo resposta obtido acima, vemos que se usarmos os números mais frequentes de cada bola, o jogo ideal seria: \n",
    "# 8-23-29-30-36-55"
   ]
  },
  {
   "cell_type": "code",
   "execution_count": null,
   "metadata": {},
   "outputs": [],
   "source": []
  }
 ],
 "metadata": {
  "kernelspec": {
   "display_name": "Python 3",
   "language": "python",
   "name": "python3"
  },
  "language_info": {
   "codemirror_mode": {
    "name": "ipython",
    "version": 3
   },
   "file_extension": ".py",
   "mimetype": "text/x-python",
   "name": "python",
   "nbconvert_exporter": "python",
   "pygments_lexer": "ipython3",
   "version": "3.7.3"
  }
 },
 "nbformat": 4,
 "nbformat_minor": 2
}
